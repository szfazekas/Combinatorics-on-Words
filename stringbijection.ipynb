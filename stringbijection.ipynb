{
 "cells": [
  {
   "cell_type": "code",
   "execution_count": 61,
   "metadata": {},
   "outputs": [],
   "source": [
    "import numpy as np"
   ]
  },
  {
   "cell_type": "markdown",
   "metadata": {},
   "source": [
    "Bijective string transformation\n",
    "===============================\n",
    "\n",
    "Take a (binary) word $w\\in\\{0,1\\}$, with $w[i]$ meaning the $i$th letter of $w$, starting from $1$. The function **`transform`** implements a bijective string transform $f:\\{0,1\\}^*\\rightarrow \\{0,1\\}^*$, computed as follows:\n",
    "* Let $v_1=w$\n",
    "* Compute $v_{i+1}$ from $v_i$ by taking the `XOR` of pairs of consecutive letters of $v_i$, that is, $|v_{i+1}| = |v_i|-1$, such that $v_{i+1}[j]=v_i[j] \\oplus v_i[j+1]$, for all $j\\in\\{1,|v_i|-1\\}$. \n",
    "* The last such word, $v_{|w|}$, will have one letter\n",
    "* The value of $f(w)$ is given by concatenating the first letters of all $v_i$, that is,\n",
    "$$f(w) = v_1[1]v_2[1]\\cdots v_{|w|}[1].$$\n",
    "\n",
    "$f$ has the following properties, which hold for all $w\\in \\{0,1\\}^*$:\n",
    "1. **Length preserving:** $|w| = |f(w)|$.\n",
    "2. **Idempotent:** $w=f(f(w))$, in other form, $w = ff.w$ or $w=f^2.w$.\n",
    "3. **Commutes(?) with reversal:** $f(f(w)^R) = (f(w^R))^R$, in other form, $fRf.w = RfR.w$.\n",
    "4. **From 3. we get:** $fRfRfR.w = w$, in other form, $(fR)^3 = 1$."
   ]
  },
  {
   "cell_type": "code",
   "execution_count": 62,
   "metadata": {},
   "outputs": [],
   "source": [
    "def transform(word, row=0, full=False):\n",
    "    size = len(word)\n",
    "    result = np.zeros((size,size), dtype = np.int)\n",
    "    if isinstance(word, str):\n",
    "        start = np.fromiter(word, dtype = np.int)\n",
    "    else:\n",
    "        start = word\n",
    "    result[0] = start\n",
    "    for i in np.arange(1, size):\n",
    "        result[i, :size-i] = (result[i-1, : size-i] + result[i-1, 1: size-i+1])%2\n",
    "    if full:\n",
    "        return result\n",
    "    elif row > 0 and row < size:\n",
    "        return result[row]\n",
    "    else:\n",
    "        return result[:,0]"
   ]
  },
  {
   "cell_type": "markdown",
   "metadata": {},
   "source": [
    "## A printing method for the steps of computation of the transform. Row $i$ corresponds to $v_i$ ##"
   ]
  },
  {
   "cell_type": "code",
   "execution_count": 63,
   "metadata": {},
   "outputs": [],
   "source": [
    "def triprint(matrix):\n",
    "    size = matrix.shape[0]\n",
    "    for i in np.arange(size):\n",
    "        print(' '*i+' '.join(map(str, matrix[i,:size-i])))"
   ]
  },
  {
   "cell_type": "markdown",
   "metadata": {},
   "source": [
    "## We can define order $k$ complements of a binary string, based on the transform. There are at least two straightforward choices, which both agree with order 1 complement being the usual notion of negating individual bits. ##\n",
    "\n",
    "One choice is to negate the $k$-th bit of the transform and apply the transform to the result. The other is to negate all bits up to position $k$ in the transform, and appy the transform again. In symbols, if $C_k(v)=v[1]\\cdots v[k-1]\\cdot \\overline{v[k]}\\cdot v[k+1]\\cdots v[|v|]$, then the first type of complementation of order $k$, amounts to $X_k(w) = fC_kf.w$, whereas the second type of complementation of order $k$ is defined by $Y_k(w) = fC_kC_{k-1}\\cdots C_1f.w$."
   ]
  },
  {
   "cell_type": "code",
   "execution_count": 64,
   "metadata": {},
   "outputs": [],
   "source": [
    "def complement1(word, order):\n",
    "    tr = transform(word)\n",
    "    tr[order] = 1 - tr[order]\n",
    "    return transform(tr)"
   ]
  },
  {
   "cell_type": "code",
   "execution_count": 65,
   "metadata": {},
   "outputs": [
    {
     "data": {
      "text/plain": [
       "array([0, 1, 0, 0, 1])"
      ]
     },
     "execution_count": 65,
     "metadata": {},
     "output_type": "execute_result"
    }
   ],
   "source": [
    "complement1('10110',0)"
   ]
  },
  {
   "cell_type": "code",
   "execution_count": 66,
   "metadata": {},
   "outputs": [],
   "source": [
    "def complement2(word, order):\n",
    "    tr = transform(word)\n",
    "    tr[:order+1] = 1 - tr[:order+1]\n",
    "    return transform(tr)"
   ]
  },
  {
   "cell_type": "code",
   "execution_count": 67,
   "metadata": {},
   "outputs": [
    {
     "data": {
      "text/plain": [
       "array([0, 1, 0, 0, 1])"
      ]
     },
     "execution_count": 67,
     "metadata": {},
     "output_type": "execute_result"
    }
   ],
   "source": [
    "complement2('10110',0)"
   ]
  },
  {
   "cell_type": "code",
   "execution_count": 68,
   "metadata": {},
   "outputs": [
    {
     "name": "stdout",
     "output_type": "stream",
     "text": [
      "[1 0 1 0 1 0 1 0]                ***              [1 0 1 0 1 0 1 0]\n",
      "[0 0 0 0 0 0 0 0]                ***              [1 1 1 1 1 1 1 1]\n",
      "[0 1 1 0 0 1 1 0]                ***              [1 1 0 0 1 1 0 0]\n",
      "[0 1 0 0 0 1 0 0]                ***              [1 1 0 1 1 1 0 1]\n",
      "[0 1 0 1 1 0 1 0]                ***              [1 1 0 1 0 0 1 0]\n",
      "[0 1 0 1 0 0 0 0]                ***              [1 1 0 1 0 1 1 1]\n",
      "[0 1 0 1 0 1 1 0]                ***              [1 1 0 1 0 1 0 0]\n",
      "[0 1 0 1 0 1 0 0]                ***              [1 1 0 1 0 1 0 1]\n"
     ]
    }
   ],
   "source": [
    "word = '01010101'\n",
    "for i in range(len(word)):\n",
    "    print(complement1(word, i), '               ***             ', complement2(word, i))"
   ]
  },
  {
   "cell_type": "code",
   "execution_count": null,
   "metadata": {},
   "outputs": [],
   "source": []
  },
  {
   "cell_type": "code",
   "execution_count": 69,
   "metadata": {},
   "outputs": [
    {
     "name": "stdout",
     "output_type": "stream",
     "text": [
      "1 0 1 0 0 1 0 0 0 1 0 1 0 0 1 0 0 0\n",
      " 1 1 1 0 1 1 0 0 1 1 1 1 0 1 1 0 0\n",
      "  0 0 1 1 0 1 0 1 0 0 0 1 1 0 1 0\n",
      "   0 1 0 1 1 1 1 1 0 0 1 0 1 1 1\n",
      "    1 1 1 0 0 0 0 1 0 1 1 1 0 0\n",
      "     0 0 1 0 0 0 1 1 1 0 0 1 0\n",
      "      0 1 1 0 0 1 0 0 1 0 1 1\n",
      "       1 0 1 0 1 1 0 1 1 1 0\n",
      "        1 1 1 1 0 1 1 0 0 1\n",
      "         0 0 0 1 1 0 1 0 1\n",
      "          0 0 1 0 1 1 1 1\n",
      "           0 1 1 1 0 0 0\n",
      "            1 0 0 1 0 0\n",
      "             1 0 1 1 0\n",
      "              1 1 0 1\n",
      "               0 1 1\n",
      "                1 0\n",
      "                 1\n"
     ]
    }
   ],
   "source": [
    "triprint(transform('101001000101001000',full=True))"
   ]
  },
  {
   "cell_type": "code",
   "execution_count": 70,
   "metadata": {},
   "outputs": [
    {
     "name": "stdout",
     "output_type": "stream",
     "text": [
      "1 0 1 1 0 1 0 0 0 0 1 0 1 1 0 1\n",
      " 1 1 0 1 1 1 0 0 0 1 1 1 0 1 1\n",
      "  0 1 1 0 0 1 0 0 1 0 0 1 1 0\n",
      "   1 0 1 0 1 1 0 1 1 0 1 0 1\n",
      "    1 1 1 1 0 1 1 0 1 1 1 1\n",
      "     0 0 0 1 1 0 1 1 0 0 0\n",
      "      0 0 1 0 1 1 0 1 0 0\n",
      "       0 1 1 1 0 1 1 1 0\n",
      "        1 0 0 1 1 0 0 1\n",
      "         1 0 1 0 1 0 1\n",
      "          1 1 1 1 1 1\n",
      "           0 0 0 0 0\n",
      "            0 0 0 0\n",
      "             0 0 0\n",
      "              0 0\n",
      "               0\n"
     ]
    }
   ],
   "source": [
    "triprint(transform('1011010000101101',full=True))"
   ]
  },
  {
   "cell_type": "code",
   "execution_count": 71,
   "metadata": {},
   "outputs": [
    {
     "name": "stdout",
     "output_type": "stream",
     "text": [
      "1 0 1 1 0 1 1 1 0 1 0 0 1 0 1 1 1 0 1 1 0 1\n",
      " 1 1 0 1 1 0 0 1 1 1 0 1 1 1 0 0 1 1 0 1 1\n",
      "  0 1 1 0 1 0 1 0 0 1 1 0 0 1 0 1 0 1 1 0\n",
      "   1 0 1 1 1 1 1 0 1 0 1 0 1 1 1 1 1 0 1\n",
      "    1 1 0 0 0 0 1 1 1 1 1 1 0 0 0 0 1 1\n",
      "     0 1 0 0 0 1 0 0 0 0 0 1 0 0 0 1 0\n",
      "      1 1 0 0 1 1 0 0 0 0 1 1 0 0 1 1\n",
      "       0 1 0 1 0 1 0 0 0 1 0 1 0 1 0\n",
      "        1 1 1 1 1 1 0 0 1 1 1 1 1 1\n",
      "         0 0 0 0 0 1 0 1 0 0 0 0 0\n",
      "          0 0 0 0 1 1 1 1 0 0 0 0\n",
      "           0 0 0 1 0 0 0 1 0 0 0\n",
      "            0 0 1 1 0 0 1 1 0 0\n",
      "             0 1 0 1 0 1 0 1 0\n",
      "              1 1 1 1 1 1 1 1\n",
      "               0 0 0 0 0 0 0\n",
      "                0 0 0 0 0 0\n",
      "                 0 0 0 0 0\n",
      "                  0 0 0 0\n",
      "                   0 0 0\n",
      "                    0 0\n",
      "                     0\n"
     ]
    }
   ],
   "source": [
    "triprint(transform('1011011101001011101101',full=True))"
   ]
  }
 ],
 "metadata": {
  "kernelspec": {
   "display_name": "Python 3",
   "language": "python",
   "name": "python3"
  },
  "language_info": {
   "codemirror_mode": {
    "name": "ipython",
    "version": 3
   },
   "file_extension": ".py",
   "mimetype": "text/x-python",
   "name": "python",
   "nbconvert_exporter": "python",
   "pygments_lexer": "ipython3",
   "version": "3.6.8"
  }
 },
 "nbformat": 4,
 "nbformat_minor": 2
}
