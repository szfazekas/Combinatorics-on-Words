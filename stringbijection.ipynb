{
 "cells": [
  {
   "cell_type": "code",
   "execution_count": 4,
   "metadata": {},
   "outputs": [],
   "source": [
    "import numpy as np"
   ]
  },
  {
   "cell_type": "code",
   "execution_count": 18,
   "metadata": {},
   "outputs": [],
   "source": [
    "base = 2\n",
    "\n",
    "def transform(word, row=0, full=False):\n",
    "    size = len(word)\n",
    "    result = np.zeros((size,size), dtype = np.int)\n",
    "    if isinstance(word, str):\n",
    "        start = np.fromiter(word, dtype = np.int)\n",
    "    else:\n",
    "        start = word\n",
    "    result[0] = start\n",
    "    for i in np.arange(1, size):\n",
    "        result[i, :size-i] = (result[i-1, : size-i] + result[i-1, 1: size-i+1])%2\n",
    "    if full:\n",
    "        return result\n",
    "    elif row > 0 and row < size:\n",
    "        return result[row]\n",
    "    else:\n",
    "        return result[:,0]"
   ]
  },
  {
   "cell_type": "code",
   "execution_count": 86,
   "metadata": {},
   "outputs": [],
   "source": [
    "word = ('110111')\n",
    "a = np.fromiter(word, dtype = int)\n",
    "b = np.zeros([len(word),len(word)])\n",
    "b[0] = a\n"
   ]
  },
  {
   "cell_type": "code",
   "execution_count": 88,
   "metadata": {},
   "outputs": [
    {
     "data": {
      "text/plain": [
       "'0b110'"
      ]
     },
     "execution_count": 88,
     "metadata": {},
     "output_type": "execute_result"
    }
   ],
   "source": [
    "bin((int(word, base =2)%(2^(len(word)-1))))"
   ]
  },
  {
   "cell_type": "code",
   "execution_count": 40,
   "metadata": {},
   "outputs": [],
   "source": [
    "def triprint(matrix):\n",
    "    size = matrix.shape[0]\n",
    "    for i in np.arange(size):\n",
    "        print(' '*i+' '.join(map(str, matrix[i,:size-i])))"
   ]
  },
  {
   "cell_type": "code",
   "execution_count": null,
   "metadata": {},
   "outputs": [],
   "source": []
  },
  {
   "cell_type": "code",
   "execution_count": 44,
   "metadata": {},
   "outputs": [
    {
     "name": "stdout",
     "output_type": "stream",
     "text": [
      "1 0 1 0 0 1 0 0 0 1 0 1 0 0 1 0 0 0\n",
      " 1 1 1 0 1 1 0 0 1 1 1 1 0 1 1 0 0\n",
      "  0 0 1 1 0 1 0 1 0 0 0 1 1 0 1 0\n",
      "   0 1 0 1 1 1 1 1 0 0 1 0 1 1 1\n",
      "    1 1 1 0 0 0 0 1 0 1 1 1 0 0\n",
      "     0 0 1 0 0 0 1 1 1 0 0 1 0\n",
      "      0 1 1 0 0 1 0 0 1 0 1 1\n",
      "       1 0 1 0 1 1 0 1 1 1 0\n",
      "        1 1 1 1 0 1 1 0 0 1\n",
      "         0 0 0 1 1 0 1 0 1\n",
      "          0 0 1 0 1 1 1 1\n",
      "           0 1 1 1 0 0 0\n",
      "            1 0 0 1 0 0\n",
      "             1 0 1 1 0\n",
      "              1 1 0 1\n",
      "               0 1 1\n",
      "                1 0\n",
      "                 1\n"
     ]
    }
   ],
   "source": [
    "triprint(transform('101001000101001000',full=True))"
   ]
  },
  {
   "cell_type": "code",
   "execution_count": 41,
   "metadata": {},
   "outputs": [
    {
     "name": "stdout",
     "output_type": "stream",
     "text": [
      "1 0 1 1 0 1 0 0 0 0 1 0 1 1 0 1\n",
      " 1 1 0 1 1 1 0 0 0 1 1 1 0 1 1\n",
      "  0 1 1 0 0 1 0 0 1 0 0 1 1 0\n",
      "   1 0 1 0 1 1 0 1 1 0 1 0 1\n",
      "    1 1 1 1 0 1 1 0 1 1 1 1\n",
      "     0 0 0 1 1 0 1 1 0 0 0\n",
      "      0 0 1 0 1 1 0 1 0 0\n",
      "       0 1 1 1 0 1 1 1 0\n",
      "        1 0 0 1 1 0 0 1\n",
      "         1 0 1 0 1 0 1\n",
      "          1 1 1 1 1 1\n",
      "           0 0 0 0 0\n",
      "            0 0 0 0\n",
      "             0 0 0\n",
      "              0 0\n",
      "               0\n"
     ]
    }
   ],
   "source": [
    "triprint(transform('1011010000101101',full=True))"
   ]
  },
  {
   "cell_type": "code",
   "execution_count": 42,
   "metadata": {},
   "outputs": [
    {
     "name": "stdout",
     "output_type": "stream",
     "text": [
      "1 0 1 1 0 1 1 1 0 1 0 0 1 0 1 1 1 0 1 1 0 1\n",
      " 1 1 0 1 1 0 0 1 1 1 0 1 1 1 0 0 1 1 0 1 1\n",
      "  0 1 1 0 1 0 1 0 0 1 1 0 0 1 0 1 0 1 1 0\n",
      "   1 0 1 1 1 1 1 0 1 0 1 0 1 1 1 1 1 0 1\n",
      "    1 1 0 0 0 0 1 1 1 1 1 1 0 0 0 0 1 1\n",
      "     0 1 0 0 0 1 0 0 0 0 0 1 0 0 0 1 0\n",
      "      1 1 0 0 1 1 0 0 0 0 1 1 0 0 1 1\n",
      "       0 1 0 1 0 1 0 0 0 1 0 1 0 1 0\n",
      "        1 1 1 1 1 1 0 0 1 1 1 1 1 1\n",
      "         0 0 0 0 0 1 0 1 0 0 0 0 0\n",
      "          0 0 0 0 1 1 1 1 0 0 0 0\n",
      "           0 0 0 1 0 0 0 1 0 0 0\n",
      "            0 0 1 1 0 0 1 1 0 0\n",
      "             0 1 0 1 0 1 0 1 0\n",
      "              1 1 1 1 1 1 1 1\n",
      "               0 0 0 0 0 0 0\n",
      "                0 0 0 0 0 0\n",
      "                 0 0 0 0 0\n",
      "                  0 0 0 0\n",
      "                   0 0 0\n",
      "                    0 0\n",
      "                     0\n"
     ]
    }
   ],
   "source": [
    "triprint(transform('1011011101001011101101',full=True))"
   ]
  }
 ],
 "metadata": {
  "kernelspec": {
   "display_name": "Python 3",
   "language": "python",
   "name": "python3"
  },
  "language_info": {
   "codemirror_mode": {
    "name": "ipython",
    "version": 3
   },
   "file_extension": ".py",
   "mimetype": "text/x-python",
   "name": "python",
   "nbconvert_exporter": "python",
   "pygments_lexer": "ipython3",
   "version": "3.6.8"
  }
 },
 "nbformat": 4,
 "nbformat_minor": 2
}
