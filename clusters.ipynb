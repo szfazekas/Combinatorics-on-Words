{
 "cells": [
  {
   "cell_type": "code",
   "execution_count": 1,
   "metadata": {},
   "outputs": [],
   "source": [
    "import numpy as np"
   ]
  },
  {
   "cell_type": "code",
   "execution_count": 96,
   "metadata": {},
   "outputs": [],
   "source": [
    "def SA(word, sa=False):\n",
    "    size = len(word)\n",
    "    w = np.fromiter(word, dtype = np.dtype('U1'))\n",
    "    array = np.full([size, size],'.', dtype = np.dtype('U1'))\n",
    "    array[0] = w\n",
    "    for i in np.arange(1, size):\n",
    "        array[i, :size-i] = w[i:]\n",
    "    index = np.lexsort(np.rot90(array))\n",
    "    if sa:\n",
    "        return np.rot90(array[index]), index\n",
    "    else:\n",
    "        return np.rot90(array[index])"
   ]
  },
  {
   "cell_type": "code",
   "execution_count": 185,
   "metadata": {},
   "outputs": [],
   "source": [
    "def printSA(matrix, index=None, spacing=4):\n",
    "    size = matrix.shape[0]\n",
    "    for i in np.arange(size):\n",
    "        print((' '*spacing).join(map(str, matrix[i,:])))\n",
    "    if index is not None:\n",
    "        map(str, index)\n",
    "        tmp = np.array(index, dtype=str)\n",
    "        tmp = np.core.defchararray.ljust(tmp, spacing+1)\n",
    "        print('\\n')\n",
    "        print(''.join(tmp))"
   ]
  },
  {
   "cell_type": "code",
   "execution_count": 186,
   "metadata": {},
   "outputs": [
    {
     "name": "stdout",
     "output_type": "stream",
     "text": [
      ".    .    .    .    .    .    .    .    a    .    .    .\n",
      ".    .    .    .    .    .    .    .    a    .    .    a\n",
      ".    .    .    .    .    a    .    .    a    .    .    a\n",
      ".    .    .    .    .    a    .    a    b    .    .    a\n",
      ".    .    .    .    .    a    .    a    a    .    a    b\n",
      ".    .    .    a    .    b    .    a    a    .    a    a\n",
      ".    .    .    a    a    a    .    b    a    .    a    a\n",
      ".    .    .    a    a    a    a    a    b    .    b    a\n",
      ".    .    .    b    a    a    a    a    a    a    a    b\n",
      ".    .    a    a    b    b    a    a    a    a    a    a\n",
      ".    a    a    a    a    a    b    b    b    a    a    a\n",
      "a    a    a    a    a    a    a    a    a    b    b    b\n",
      "\n",
      "\n",
      "11   10   9    5    6    2    7    3    0    8    4    1    \n"
     ]
    }
   ],
   "source": [
    "word = 'abaabaaabaaa'\n",
    "sa = SA('abaabaaabaaa', sa=True)\n",
    "printSA(sa[0],index=sa[1])"
   ]
  },
  {
   "cell_type": "code",
   "execution_count": null,
   "metadata": {},
   "outputs": [],
   "source": []
  }
 ],
 "metadata": {
  "kernelspec": {
   "display_name": "Python 3",
   "language": "python",
   "name": "python3"
  },
  "language_info": {
   "codemirror_mode": {
    "name": "ipython",
    "version": 3
   },
   "file_extension": ".py",
   "mimetype": "text/x-python",
   "name": "python",
   "nbconvert_exporter": "python",
   "pygments_lexer": "ipython3",
   "version": "3.7.1"
  }
 },
 "nbformat": 4,
 "nbformat_minor": 2
}
