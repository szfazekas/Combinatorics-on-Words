{
 "cells": [
  {
   "cell_type": "code",
   "execution_count": 1,
   "metadata": {},
   "outputs": [],
   "source": [
    "import numpy as np"
   ]
  },
  {
   "cell_type": "code",
   "execution_count": 233,
   "metadata": {},
   "outputs": [],
   "source": [
    "def SA(word, sa=False):\n",
    "    size = len(word)\n",
    "    w = np.fromiter(word, dtype = np.dtype('U1'))\n",
    "    array = np.full([size, size],'.', dtype = np.dtype('U1'))\n",
    "    array[0] = w\n",
    "    for i in np.arange(1, size):\n",
    "        array[i, :size-i] = w[i:]\n",
    "    index = np.lexsort(np.rot90(array))\n",
    "    if sa:\n",
    "        return np.flipud(np.rot90(array[index])), index\n",
    "    else:\n",
    "        return np.flipud(np.rot90(array[index]))"
   ]
  },
  {
   "cell_type": "code",
   "execution_count": 243,
   "metadata": {},
   "outputs": [],
   "source": [
    "def printSA(matrix, index=None, spacing=4):\n",
    "    size = matrix.shape[0]\n",
    "    for i in np.arange(size):\n",
    "        print((' '*spacing).join(map(str, matrix[i,:])))\n",
    "    if index is not None:\n",
    "        map(str, index)\n",
    "        tmp = np.array(index+1, dtype=str)\n",
    "        tmp = np.core.defchararray.ljust(tmp, spacing+1)\n",
    "        print('\\n')\n",
    "        print(''.join(tmp))"
   ]
  },
  {
   "cell_type": "code",
   "execution_count": 244,
   "metadata": {},
   "outputs": [
    {
     "name": "stdout",
     "output_type": "stream",
     "text": [
      "a    a    a    a    a    a    a    a    a    b    b    b\n",
      ".    a    a    a    a    a    b    b    b    a    a    a\n",
      ".    .    a    a    b    b    a    a    a    a    a    a\n",
      ".    .    .    b    a    a    a    a    a    a    a    b\n",
      ".    .    .    a    a    a    a    a    b    .    b    a\n",
      ".    .    .    a    a    a    .    b    a    .    a    a\n",
      ".    .    .    a    .    b    .    a    a    .    a    a\n",
      ".    .    .    .    .    a    .    a    a    .    a    b\n",
      ".    .    .    .    .    a    .    a    b    .    .    a\n",
      ".    .    .    .    .    a    .    .    a    .    .    a\n",
      ".    .    .    .    .    .    .    .    a    .    .    a\n",
      ".    .    .    .    .    .    .    .    a    .    .    .\n",
      "\n",
      "\n",
      "12   11   10   6    7    3    8    4    1    9    5    2    \n"
     ]
    }
   ],
   "source": [
    "word = 'abaabaaabaaa'\n",
    "sa = SA('abaabaaabaaa', sa=True)\n",
    "printSA(sa[0],index=sa[1])"
   ]
  },
  {
   "cell_type": "code",
   "execution_count": 245,
   "metadata": {},
   "outputs": [],
   "source": [
    "def cluster(matrix, word):\n",
    "    size = len(word)\n",
    "    w = np.fromiter(word, dtype = np.dtype('U1'))\n",
    "    a = matrix[ : size]\n",
    "    a = a.transpose()\n",
    "    return np.all(a == w, axis = 1)"
   ]
  },
  {
   "cell_type": "code",
   "execution_count": 246,
   "metadata": {},
   "outputs": [
    {
     "data": {
      "text/plain": [
       "array([False, False, False, False, False, False, False, False, False,\n",
       "        True,  True, False])"
      ]
     },
     "execution_count": 246,
     "metadata": {},
     "output_type": "execute_result"
    }
   ],
   "source": [
    "cluster(sa[0],'baaa')"
   ]
  },
  {
   "cell_type": "code",
   "execution_count": 236,
   "metadata": {},
   "outputs": [
    {
     "name": "stdout",
     "output_type": "stream",
     "text": [
      "[['a' '.']\n",
      " ['a' 'a']\n",
      " ['a' 'a']\n",
      " ['a' 'a']\n",
      " ['a' 'a']\n",
      " ['a' 'a']\n",
      " ['a' 'b']\n",
      " ['a' 'b']\n",
      " ['a' 'b']\n",
      " ['b' 'a']\n",
      " ['b' 'a']\n",
      " ['b' 'a']] ['a' 'a']\n"
     ]
    }
   ],
   "source": [
    "a = sa[0][:2]\n",
    "b = np.array(['a','a'])\n",
    "a = a.transpose()\n",
    "print(a, b)"
   ]
  },
  {
   "cell_type": "code",
   "execution_count": 226,
   "metadata": {},
   "outputs": [
    {
     "data": {
      "text/plain": [
       "array([[['a', '.']],\n",
       "\n",
       "       [['a', 'a']],\n",
       "\n",
       "       [['a', 'a']],\n",
       "\n",
       "       [['a', 'a']],\n",
       "\n",
       "       [['a', 'a']],\n",
       "\n",
       "       [['a', 'a']],\n",
       "\n",
       "       [['a', 'b']],\n",
       "\n",
       "       [['a', 'b']],\n",
       "\n",
       "       [['a', 'b']],\n",
       "\n",
       "       [['b', 'a']],\n",
       "\n",
       "       [['b', 'a']],\n",
       "\n",
       "       [['b', 'a']]], dtype='<U1')"
      ]
     },
     "execution_count": 226,
     "metadata": {},
     "output_type": "execute_result"
    }
   ],
   "source": [
    "a.reshape([12,1,2])"
   ]
  },
  {
   "cell_type": "code",
   "execution_count": 237,
   "metadata": {},
   "outputs": [
    {
     "data": {
      "text/plain": [
       "array([False,  True,  True,  True,  True,  True, False, False, False,\n",
       "       False, False, False])"
      ]
     },
     "execution_count": 237,
     "metadata": {},
     "output_type": "execute_result"
    }
   ],
   "source": [
    "np.all(a==b, axis=1)"
   ]
  }
 ],
 "metadata": {
  "kernelspec": {
   "display_name": "Python 3",
   "language": "python",
   "name": "python3"
  },
  "language_info": {
   "codemirror_mode": {
    "name": "ipython",
    "version": 3
   },
   "file_extension": ".py",
   "mimetype": "text/x-python",
   "name": "python",
   "nbconvert_exporter": "python",
   "pygments_lexer": "ipython3",
   "version": "3.7.1"
  }
 },
 "nbformat": 4,
 "nbformat_minor": 2
}
